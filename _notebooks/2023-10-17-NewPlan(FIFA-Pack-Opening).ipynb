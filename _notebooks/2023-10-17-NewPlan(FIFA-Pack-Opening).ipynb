{
 "cells": [
  {
   "cell_type": "markdown",
   "metadata": {},
   "source": [
    "### FIFA Pack Opening\n",
    "Our game will be a pack opening game where users can experience the thrill of opening FIFA player packs."
   ]
  },
  {
   "cell_type": "markdown",
   "metadata": {},
   "source": [
    "## Backend\n",
    "Our backend will have a database of a variety of players and a description of their stats."
   ]
  },
  {
   "cell_type": "markdown",
   "metadata": {},
   "source": [
    "## Mechanics\n",
    "Our program will give the user a random player from our databases and will provide them with their stats. We also plan to add animations and visual transitions to simulate the game's pack opening experience."
   ]
  }
 ],
 "metadata": {
  "kernelspec": {
   "display_name": "Python 3",
   "language": "python",
   "name": "python3"
  },
  "language_info": {
   "name": "python",
   "version": "3.10.12"
  }
 },
 "nbformat": 4,
 "nbformat_minor": 2
}
