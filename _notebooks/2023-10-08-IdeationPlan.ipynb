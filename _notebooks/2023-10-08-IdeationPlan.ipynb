{
 "cells": [
  {
   "cell_type": "markdown",
   "metadata": {},
   "source": [
    "---\n",
    "toc: false\n",
    "comments: true\n",
    "layout: post\n",
    "title: Passion Project Ideation Plan\n",
    "description: This is the ideation Plan for out Passion Project on the game \"Who wants to become a millionare?\"\n",
    "type: plans\n",
    "courses: { compsci: {week: 7} }\n",
    "permalink: /plans/week7\n",
    "---"
   ]
  },
  {
   "cell_type": "markdown",
   "metadata": {},
   "source": [
    "## Our Game:"
   ]
  },
  {
   "cell_type": "markdown",
   "metadata": {},
   "source": [
    "## Roles and Workload\n",
    "\n",
    "### Person 1\n",
    "\n",
    "### Person 2\n",
    "\n",
    "### Person 3\n",
    "\n",
    "### Person 4\n"
   ]
  },
  {
   "cell_type": "markdown",
   "metadata": {},
   "source": [
    "## Outline of the Game"
   ]
  },
  {
   "cell_type": "markdown",
   "metadata": {},
   "source": [
    "## Looping/Gameover"
   ]
  },
  {
   "cell_type": "markdown",
   "metadata": {},
   "source": [
    "## More details"
   ]
  }
 ],
 "metadata": {
  "language_info": {
   "name": "python"
  },
  "orig_nbformat": 4
 },
 "nbformat": 4,
 "nbformat_minor": 2
}
