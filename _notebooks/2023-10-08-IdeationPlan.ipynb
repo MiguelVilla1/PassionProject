{
 "cells": [
  {
   "cell_type": "markdown",
   "metadata": {},
   "source": [
    "---\n",
    "toc: false\n",
    "comments: true\n",
    "layout: post\n",
    "title: Passion Project Ideation Plan\n",
    "description: This is the ideation Plan for out Passion Project on the game \"Who wants to become a millionare?\"\n",
    "type: plans\n",
    "courses: { compsci: {week: 7} }\n",
    "permalink: /plans/week7\n",
    "---"
   ]
  },
  {
   "cell_type": "markdown",
   "metadata": {},
   "source": [
    "## Our Game:\n",
    "Our team's game will be our own version of a trivia game based on the gameshow \"Who Wants to be a Millionare?\" we will "
   ]
  },
  {
   "cell_type": "markdown",
   "metadata": {},
   "source": [
    "## Roles and Workload\n",
    "\n",
    "### Person 1\n",
    "Background and environment development: This persosn will be responsible for adding the visual touches to the game such as graphics, images, and appealing font/colors.\n",
    "### Person 2\n",
    "Answer/Question creation: This person is responsible for creating the questions with four answers per question. Only one right answer per question.\n",
    "### Person 3\n",
    "Game mechanics 1: This person will focus on the looping structure of the game. Ex: If an answer is right, they will have the player move on. If an answer is incorrect, they will redirect player to gameover screen.\n",
    "### Person 4\n",
    "Game mechanics 2: This person will focus on testing functions to make sure they run correctly, tweaking mistakes in code, and helping person 3 with creating the order in which the game is played."
   ]
  },
  {
   "cell_type": "markdown",
   "metadata": {},
   "source": [
    "## Outline of the Game\n",
    "|QUESTION|Player chooses answer|Answer is correct/incorrect|\n",
    "|:-------------------:|:-------------------:|:-------------------:|\n",
    "|Game provides a question with four possible answers, only one answer is correct|Player will choose one of four answers|Game will evalutate answer. If correct, player will move on to next question with a increasing amount of money for each question answered correctly. if incorrect, player will lose and will have to begin from the start.|\n",
    "\n",
    "Question --> Answer Selection --> Correct/Incorrect\n"
   ]
  },
  {
   "cell_type": "markdown",
   "metadata": {},
   "source": [
    "## Looping/Gameover\n",
    "Our team will make use of if/else statements in order to direct players further through the game or straight to the game over screen depending on their profficiency."
   ]
  },
  {
   "cell_type": "markdown",
   "metadata": {},
   "source": [
    "## More details\n",
    "Our team plans to use:\n",
    "\n",
    "- Buttons in order to make answers interactable and clickable\n",
    "- HTML attributes in order to give text different fonts, colors, size, and boldness\n",
    "- Music APIs in order to give an entertaining and captivating experience to the user/player"
   ]
  }
 ],
 "metadata": {
  "language_info": {
   "name": "python"
  },
  "orig_nbformat": 4
 },
 "nbformat": 4,
 "nbformat_minor": 2
}
